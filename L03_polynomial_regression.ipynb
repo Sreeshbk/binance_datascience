{
  "nbformat": 4,
  "nbformat_minor": 0,
  "metadata": {
    "colab": {
      "name": "L03_polynomial_regression.ipynb",
      "provenance": [],
      "authorship_tag": "ABX9TyPouMutIDXlO4gH499cqWqL",
      "include_colab_link": true
    },
    "kernelspec": {
      "name": "python3",
      "display_name": "Python 3"
    },
    "language_info": {
      "name": "python"
    }
  },
  "cells": [
    {
      "cell_type": "markdown",
      "metadata": {
        "id": "view-in-github",
        "colab_type": "text"
      },
      "source": [
        "<a href=\"https://colab.research.google.com/github/Sreeshbk/binance_datascience/blob/main/L03_polynomial_regression.ipynb\" target=\"_parent\"><img src=\"https://colab.research.google.com/assets/colab-badge.svg\" alt=\"Open In Colab\"/></a>"
      ]
    },
    {
      "cell_type": "markdown",
      "metadata": {
        "id": "dkaE7goQmyx1"
      },
      "source": [
        "# Polynomial Regression\n",
        "\n",
        "polynomial regression is a form of regression analysis in which the relationship between the independent variable x and the dependent variable y is modelled as an nth degree polynomial in x"
      ]
    },
    {
      "cell_type": "markdown",
      "metadata": {
        "id": "gdKmVRYUoSCE"
      },
      "source": [
        "Sample data is from ISLR. It displays sales (in thousands of units) for a particular product as a function of advertising budgets (in thousands of dollars) for TV, radio, and newspaper media."
      ]
    },
    {
      "cell_type": "code",
      "metadata": {
        "id": "ryELc994mSeU"
      },
      "source": [
        "import numpy as np\n",
        "import pandas as pd\n",
        "import matplotlib.pyplot as plt\n",
        "import seaborn as sns"
      ],
      "execution_count": 1,
      "outputs": []
    },
    {
      "cell_type": "code",
      "metadata": {
        "colab": {
          "base_uri": "https://localhost:8080/",
          "height": 202
        },
        "id": "zY8Y1t9dnqpa",
        "outputId": "1923d1c0-1d97-4adf-d99c-1cea3ea2f967"
      },
      "source": [
        "advertising = pd.read_csv(\"./data/Advertising.csv\",index_col=0)\n",
        "advertising.head()"
      ],
      "execution_count": 2,
      "outputs": [
        {
          "output_type": "execute_result",
          "data": {
            "text/html": [
              "<div>\n",
              "<style scoped>\n",
              "    .dataframe tbody tr th:only-of-type {\n",
              "        vertical-align: middle;\n",
              "    }\n",
              "\n",
              "    .dataframe tbody tr th {\n",
              "        vertical-align: top;\n",
              "    }\n",
              "\n",
              "    .dataframe thead th {\n",
              "        text-align: right;\n",
              "    }\n",
              "</style>\n",
              "<table border=\"1\" class=\"dataframe\">\n",
              "  <thead>\n",
              "    <tr style=\"text-align: right;\">\n",
              "      <th></th>\n",
              "      <th>TV</th>\n",
              "      <th>Radio</th>\n",
              "      <th>Newspaper</th>\n",
              "      <th>Sales</th>\n",
              "    </tr>\n",
              "  </thead>\n",
              "  <tbody>\n",
              "    <tr>\n",
              "      <th>1</th>\n",
              "      <td>230.1</td>\n",
              "      <td>37.8</td>\n",
              "      <td>69.2</td>\n",
              "      <td>22.1</td>\n",
              "    </tr>\n",
              "    <tr>\n",
              "      <th>2</th>\n",
              "      <td>44.5</td>\n",
              "      <td>39.3</td>\n",
              "      <td>45.1</td>\n",
              "      <td>10.4</td>\n",
              "    </tr>\n",
              "    <tr>\n",
              "      <th>3</th>\n",
              "      <td>17.2</td>\n",
              "      <td>45.9</td>\n",
              "      <td>69.3</td>\n",
              "      <td>9.3</td>\n",
              "    </tr>\n",
              "    <tr>\n",
              "      <th>4</th>\n",
              "      <td>151.5</td>\n",
              "      <td>41.3</td>\n",
              "      <td>58.5</td>\n",
              "      <td>18.5</td>\n",
              "    </tr>\n",
              "    <tr>\n",
              "      <th>5</th>\n",
              "      <td>180.8</td>\n",
              "      <td>10.8</td>\n",
              "      <td>58.4</td>\n",
              "      <td>12.9</td>\n",
              "    </tr>\n",
              "  </tbody>\n",
              "</table>\n",
              "</div>"
            ],
            "text/plain": [
              "      TV  Radio  Newspaper  Sales\n",
              "1  230.1   37.8       69.2   22.1\n",
              "2   44.5   39.3       45.1   10.4\n",
              "3   17.2   45.9       69.3    9.3\n",
              "4  151.5   41.3       58.5   18.5\n",
              "5  180.8   10.8       58.4   12.9"
            ]
          },
          "metadata": {
            "tags": []
          },
          "execution_count": 2
        }
      ]
    },
    {
      "cell_type": "code",
      "metadata": {
        "id": "0XByLus4oc5W"
      },
      "source": [
        "X= advertising.drop('Sales',axis=1)\n",
        "y= advertising['Sales']"
      ],
      "execution_count": 3,
      "outputs": []
    },
    {
      "cell_type": "markdown",
      "metadata": {
        "id": "-dqKslqUngw9"
      },
      "source": [
        "## Polynomial Regression"
      ]
    },
    {
      "cell_type": "markdown",
      "metadata": {
        "id": "BF84CrdIngw-"
      },
      "source": [
        "**From Preprocessing, import PolynomialFeatures, which will help us transform our original data set by adding polynomial features**\n",
        "\n",
        "We will go from the equation in the form (shown here as if we only had one x feature):\n",
        "\n",
        "$$\\hat{y} = \\beta_0 + \\beta_1x_1 + \\epsilon $$\n",
        "\n",
        "and create more features from the original x feature for some *d* degree of polynomial.\n",
        "\n",
        "$$\\hat{y} = \\beta_0 + \\beta_1x_1 + \\beta_1x^2_1 +  ... + \\beta_dx^d_1 + \\epsilon$$\n",
        "\n",
        "Then we can call the linear regression model on it, since in reality, we're just treating these new polynomial features x^2, x^3, ... x^d as new features. Obviously we need to be careful about choosing the correct value of *d* , the degree of the model. Our metric results on the test set will help us with this!\n",
        "\n",
        "**The other thing to note here is we have multiple X features, not just a single one as in the formula above, so in reality, the PolynomialFeatures will also take *interaction* terms into account for example, if an input sample is two dimensional and of the form [a, b], the degree-2 polynomial features are [1, a, b, a^2, ab, b^2].**"
      ]
    },
    {
      "cell_type": "code",
      "metadata": {
        "id": "v2bKBx2dpval"
      },
      "source": [
        "from sklearn.preprocessing import PolynomialFeatures"
      ],
      "execution_count": 4,
      "outputs": []
    },
    {
      "cell_type": "code",
      "metadata": {
        "colab": {
          "base_uri": "https://localhost:8080/"
        },
        "id": "NqPs_oQOp9rl",
        "outputId": "d2b75960-29ba-4de8-88fc-2d59f6929bae"
      },
      "source": [
        "print(\"PolynomialFeatures automatically creates both higher order feature polynomials and the interaction between all feature combinations\")\n",
        "polynomial_converter = PolynomialFeatures(degree=2,include_bias=False)"
      ],
      "execution_count": 5,
      "outputs": [
        {
          "output_type": "stream",
          "text": [
            "PolynomialFeatures automatically creates both higher order feature polynomials and the interaction between all feature combinations\n"
          ],
          "name": "stdout"
        }
      ]
    },
    {
      "cell_type": "code",
      "metadata": {
        "id": "4pHyQmhtqBWQ"
      },
      "source": [
        "# Converter \"fits\" to data, in this case, reads in every X column\n",
        "# Then it \"transforms\" and ouputs the new polynomial data\n",
        "poly_features = polynomial_converter.fit_transform(X)"
      ],
      "execution_count": 6,
      "outputs": []
    },
    {
      "cell_type": "code",
      "metadata": {
        "colab": {
          "base_uri": "https://localhost:8080/"
        },
        "id": "F_Umv-RxqIeW",
        "outputId": "f30e3c4d-f8b1-4ee8-e469-f983d1396c3d"
      },
      "source": [
        "print(f''' Shape of X {X.shape}\n",
        "  Shape of poly_features {poly_features.shape}''')"
      ],
      "execution_count": 7,
      "outputs": [
        {
          "output_type": "stream",
          "text": [
            " Shape of X (200, 3)\n",
            "  Shape of poly_features (200, 9)\n"
          ],
          "name": "stdout"
        }
      ]
    },
    {
      "cell_type": "code",
      "metadata": {
        "colab": {
          "base_uri": "https://localhost:8080/"
        },
        "id": "YS8AXbSUqL75",
        "outputId": "936561eb-1fb7-4947-877c-8417ab0f5feb"
      },
      "source": [
        "print(f''' For the first row \n",
        "{'*'*40}\n",
        "{X.iloc[0]}\n",
        "  \n",
        "poly_features values are\n",
        "{'*'*40}\n",
        "{poly_features[0]}''')"
      ],
      "execution_count": 8,
      "outputs": [
        {
          "output_type": "stream",
          "text": [
            " For the first row \n",
            "****************************************\n",
            "TV           230.1\n",
            "Radio         37.8\n",
            "Newspaper     69.2\n",
            "Name: 1, dtype: float64\n",
            "  \n",
            "poly_features values are\n",
            "****************************************\n",
            "[2.301000e+02 3.780000e+01 6.920000e+01 5.294601e+04 8.697780e+03\n",
            " 1.592292e+04 1.428840e+03 2.615760e+03 4.788640e+03]\n"
          ],
          "name": "stdout"
        }
      ]
    },
    {
      "cell_type": "code",
      "metadata": {
        "colab": {
          "base_uri": "https://localhost:8080/"
        },
        "id": "Om4U5D6MrSzB",
        "outputId": "c07c9d51-f90a-45a3-e32d-4f5a28b9f64f"
      },
      "source": [
        "print(f'''In poly_features[0] ,\n",
        "The first 3 terms are input {poly_features[0][:3]}\n",
        "Next 3 terms are Interaction and square term \n",
        "    poly_features[0][0]* poly_features[0][0]    {poly_features[0][0]* poly_features[0][0]}     \n",
        "    poly_features[0][0]* poly_features[0][1]    {poly_features[0][0]* poly_features[0][1]}     \n",
        "    poly_features[0][0]* poly_features[0][2]    {poly_features[0][0]* poly_features[0][2]}    \n",
        "    poly_features[0][1]* poly_features[0][1]    {poly_features[0][1]* poly_features[0][1]} \n",
        "    poly_features[0][1]* poly_features[0][2]    {poly_features[0][1]* poly_features[0][2]}\n",
        "    poly_features[0][2]* poly_features[0][2]    {poly_features[0][2]* poly_features[0][2]} \n",
        "    result {poly_features[0][3:]}\n",
        "      ''')"
      ],
      "execution_count": 9,
      "outputs": [
        {
          "output_type": "stream",
          "text": [
            "In poly_features[0] ,\n",
            "The first 3 terms are input [230.1  37.8  69.2]\n",
            "Next 3 terms are Interaction and square term \n",
            "    poly_features[0][0]* poly_features[0][0]    52946.009999999995     \n",
            "    poly_features[0][0]* poly_features[0][1]    8697.779999999999     \n",
            "    poly_features[0][0]* poly_features[0][2]    15922.92    \n",
            "    poly_features[0][1]* poly_features[0][1]    1428.8399999999997 \n",
            "    poly_features[0][1]* poly_features[0][2]    2615.7599999999998\n",
            "    poly_features[0][2]* poly_features[0][2]    4788.64 \n",
            "    result [52946.01  8697.78 15922.92  1428.84  2615.76  4788.64]\n",
            "      \n"
          ],
          "name": "stdout"
        }
      ]
    },
    {
      "cell_type": "markdown",
      "metadata": {
        "id": "Ahcjjg-Ev0yw"
      },
      "source": [
        "Train/Test split"
      ]
    },
    {
      "cell_type": "code",
      "metadata": {
        "id": "5AGhmmdnv3Bs"
      },
      "source": [
        "from sklearn.model_selection import train_test_split\n",
        "X_train,X_test,y_train,y_test =train_test_split(poly_features,y,test_size=0.3,random_state=42)"
      ],
      "execution_count": 10,
      "outputs": []
    },
    {
      "cell_type": "code",
      "metadata": {
        "colab": {
          "base_uri": "https://localhost:8080/"
        },
        "id": "Z9LoFhgZsORv",
        "outputId": "305c7b7c-3915-4905-cce9-b5af11042396"
      },
      "source": [
        "from sklearn.linear_model import LinearRegression\n",
        "model = LinearRegression()\n",
        "model.fit(X_train,y_train)"
      ],
      "execution_count": 11,
      "outputs": [
        {
          "output_type": "execute_result",
          "data": {
            "text/plain": [
              "LinearRegression(copy_X=True, fit_intercept=True, n_jobs=None, normalize=False)"
            ]
          },
          "metadata": {
            "tags": []
          },
          "execution_count": 11
        }
      ]
    },
    {
      "cell_type": "code",
      "metadata": {
        "id": "bItRIwcat2Cs"
      },
      "source": [
        "y_predictions = model.predict(X_test)"
      ],
      "execution_count": 12,
      "outputs": []
    },
    {
      "cell_type": "code",
      "metadata": {
        "id": "aKcOOjmQwr_c"
      },
      "source": [
        "from sklearn.metrics import mean_absolute_error as mae, mean_squared_error as mse"
      ],
      "execution_count": 13,
      "outputs": []
    },
    {
      "cell_type": "code",
      "metadata": {
        "colab": {
          "base_uri": "https://localhost:8080/"
        },
        "id": "mIJau7o8w2Mc",
        "outputId": "abad33eb-c430-42b9-a623-f20760c1658d"
      },
      "source": [
        "MAE = mae(y_test,y_predictions)\n",
        "MSE = mse(y_test,y_predictions)\n",
        "RMSE = np.sqrt(MSE)\n",
        "print(f\"The prediction has MAE ={MAE}, MSE ={MSE} and RMSE={RMSE}\")"
      ],
      "execution_count": 14,
      "outputs": [
        {
          "output_type": "stream",
          "text": [
            "The prediction has MAE =0.5905974833807935, MSE =0.5231944949055296 and RMSE=0.7233218473857468\n"
          ],
          "name": "stdout"
        }
      ]
    },
    {
      "cell_type": "markdown",
      "metadata": {
        "id": "lNbORcdUxegv"
      },
      "source": [
        "The predictions are better than the Linear Regression in the previous notebook\n",
        "\n",
        "Results on the Test Set (Note: Use the same Random Split to fairly compare!)\n",
        "\n",
        "Simple Linear Regression:\n",
        "\n",
        "MAE 1.5116692224549086, MSE 3.796797236715219 and RMSE 1.9485372043446385\n",
        "\n",
        "Polynomial 2-degree:\n",
        "\n",
        "MAE =0.5905974833807935, MSE =0.5231944949055296 and RMSE=0.7233218473857468"
      ]
    },
    {
      "cell_type": "code",
      "metadata": {
        "colab": {
          "base_uri": "https://localhost:8080/"
        },
        "id": "jv1UKBxgxWiq",
        "outputId": "57548155-a479-4619-c4ca-73bfd20705b9"
      },
      "source": [
        "print(\"Coefficients used by the Model \", model.coef_)"
      ],
      "execution_count": 15,
      "outputs": [
        {
          "output_type": "stream",
          "text": [
            "Coefficients used by the Model  [ 0.05478172  0.01311214  0.01086391 -0.00011074  0.00108048 -0.00010764\n",
            "  0.00030191  0.00017541  0.00010075]\n"
          ],
          "name": "stdout"
        }
      ]
    },
    {
      "cell_type": "markdown",
      "metadata": {
        "id": "1_3nwgwqiiQ3"
      },
      "source": [
        "Adjusting Parameters:\n",
        "\n",
        "Let's use a for loop to do the following:\n",
        "\n",
        "- Create different order polynomial X data\n",
        "- Split that polynomial data for train/test\n",
        "- Fit on the training data\n",
        "- Report back the metrics on both the train and test results\n",
        "- Plot these results and explore overfitting"
      ]
    },
    {
      "cell_type": "code",
      "metadata": {
        "id": "0TRvN-rgx72l"
      },
      "source": [
        "# TRAINING ERROR PER DEGREE\n",
        "train_rmse_errors = []\n",
        "# TEST ERROR PER DEGREE\n",
        "test_rmse_errors = []\n",
        "\n",
        "for d in range(1,10):\n",
        "    \n",
        "    # CREATE POLY DATA SET FOR DEGREE \"d\"\n",
        "    polynomial_converter = PolynomialFeatures(degree=d,include_bias=False)\n",
        "    poly_features = polynomial_converter.fit_transform(X)\n",
        "    \n",
        "    # SPLIT THIS NEW POLY DATA SET\n",
        "    X_train, X_test, y_train, y_test = train_test_split(poly_features, y, test_size=0.3, random_state=101)\n",
        "    \n",
        "    # TRAIN ON THIS NEW POLY SET\n",
        "    model = LinearRegression(fit_intercept=True)\n",
        "    model.fit(X_train,y_train)\n",
        "    \n",
        "    # PREDICT ON BOTH TRAIN AND TEST\n",
        "    train_pred = model.predict(X_train)\n",
        "    test_pred = model.predict(X_test)\n",
        "    \n",
        "    # Calculate Errors\n",
        "    \n",
        "    # Errors on Train Set\n",
        "    train_RMSE = np.sqrt(mse(y_train,train_pred))\n",
        "    \n",
        "    # Errors on Test Set\n",
        "    test_RMSE = np.sqrt(mse(y_test,test_pred))\n",
        "\n",
        "    # Append errors to lists for plotting later\n",
        "    \n",
        "   \n",
        "    train_rmse_errors.append(train_RMSE)\n",
        "    test_rmse_errors.append(test_RMSE)"
      ],
      "execution_count": 18,
      "outputs": []
    },
    {
      "cell_type": "code",
      "metadata": {
        "colab": {
          "base_uri": "https://localhost:8080/"
        },
        "id": "sihMdkjYjebm",
        "outputId": "6ebb95cb-a7ae-45e6-8e00-13fd7c7e5fab"
      },
      "source": [
        "len(train_rmse_errors)"
      ],
      "execution_count": 24,
      "outputs": [
        {
          "output_type": "execute_result",
          "data": {
            "text/plain": [
              "9"
            ]
          },
          "metadata": {
            "tags": []
          },
          "execution_count": 24
        }
      ]
    },
    {
      "cell_type": "code",
      "metadata": {
        "colab": {
          "base_uri": "https://localhost:8080/",
          "height": 301
        },
        "id": "QZyRfHKZje31",
        "outputId": "0079c610-7c58-4f66-e1cc-281b27f3a4ef"
      },
      "source": [
        "plt.plot(range(1,10),train_rmse_errors,label='TRAIN')\n",
        "plt.plot(range(1,10),test_rmse_errors,label='TEST')\n",
        "plt.xlabel(\"Polynomial Complexity\")\n",
        "plt.ylim(0,100)\n",
        "plt.ylabel(\"RMSE\")\n",
        "plt.legend()"
      ],
      "execution_count": 23,
      "outputs": [
        {
          "output_type": "execute_result",
          "data": {
            "text/plain": [
              "<matplotlib.legend.Legend at 0x7f69c36b0250>"
            ]
          },
          "metadata": {
            "tags": []
          },
          "execution_count": 23
        },
        {
          "output_type": "display_data",
          "data": {
            "image/png": "[encoded data removed]",
            "text/plain": [
              "<Figure size 432x288 with 1 Axes>"
            ]
          },
          "metadata": {
            "tags": [],
            "needs_background": "light"
          }
        }
      ]
    },
    {
      "cell_type": "markdown",
      "metadata": {
        "id": "AdvZ0eEylZd8"
      },
      "source": [
        "** Based on our chart, could have also been degree=4, but it is better to be on the safe side of complexity and choose degree as 3**"
      ]
    },
    {
      "cell_type": "markdown",
      "metadata": {
        "id": "VwENk0KHlj9Q"
      },
      "source": [
        "# Finalizing Model Choice\n",
        "\n",
        "There are now 2 things we need to save, the Polynomial Feature creator AND the model itself. Let's explore how we would proceed from here:\n",
        "\n",
        "- Choose final parameters based on test metrics\n",
        "- Retrain on all data\n",
        "- Save Polynomial Converter object\n",
        "- Save model"
      ]
    },
    {
      "cell_type": "code",
      "metadata": {
        "colab": {
          "base_uri": "https://localhost:8080/"
        },
        "id": "bbmWkt4Dj39s",
        "outputId": "0dae24e1-731a-4eee-fdbb-40955103bc72"
      },
      "source": [
        "final_poly_converter = PolynomialFeatures(degree=3,include_bias=False)\n",
        "final_model = LinearRegression()\n",
        "final_model.fit(final_poly_converter.fit_transform(X),y)"
      ],
      "execution_count": 25,
      "outputs": [
        {
          "output_type": "execute_result",
          "data": {
            "text/plain": [
              "LinearRegression(copy_X=True, fit_intercept=True, n_jobs=None, normalize=False)"
            ]
          },
          "metadata": {
            "tags": []
          },
          "execution_count": 25
        }
      ]
    },
    {
      "cell_type": "markdown",
      "metadata": {
        "id": "2YKRtiIHl6sj"
      },
      "source": [
        "# Saving Model and Converter"
      ]
    },
    {
      "cell_type": "code",
      "metadata": {
        "colab": {
          "base_uri": "https://localhost:8080/"
        },
        "id": "pcOWY4Kbl4lp",
        "outputId": "36cd9594-fc97-43d4-b3d4-b05b1d9cb171"
      },
      "source": [
        "from joblib import dump, load\n",
        "dump(final_model, 'sales_poly_model.joblib') "
      ],
      "execution_count": 26,
      "outputs": [
        {
          "output_type": "execute_result",
          "data": {
            "text/plain": [
              "['sales_poly_model.joblib']"
            ]
          },
          "metadata": {
            "tags": []
          },
          "execution_count": 26
        }
      ]
    },
    {
      "cell_type": "code",
      "metadata": {
        "colab": {
          "base_uri": "https://localhost:8080/"
        },
        "id": "7BHbrF1AmAm9",
        "outputId": "4c05919d-42ea-43e4-fac1-35f599bd1103"
      },
      "source": [
        "dump(final_poly_converter,'poly_converter.joblib')"
      ],
      "execution_count": 27,
      "outputs": [
        {
          "output_type": "execute_result",
          "data": {
            "text/plain": [
              "['poly_converter.joblib']"
            ]
          },
          "metadata": {
            "tags": []
          },
          "execution_count": 27
        }
      ]
    },
    {
      "cell_type": "markdown",
      "metadata": {
        "id": "qikrWBBSmJdB"
      },
      "source": [
        "## Deployment and Predictions"
      ]
    },
    {
      "cell_type": "code",
      "metadata": {
        "id": "UdMzr1qamFQW"
      },
      "source": [
        "loaded_poly = load('poly_converter.joblib')\n",
        "loaded_model = load('sales_poly_model.joblib')"
      ],
      "execution_count": 28,
      "outputs": []
    },
    {
      "cell_type": "code",
      "metadata": {
        "colab": {
          "base_uri": "https://localhost:8080/"
        },
        "id": "gTCr5mIMmOJY",
        "outputId": "7ae6ffa9-d2bf-48f5-ac4d-a90c88e705fa"
      },
      "source": [
        "campaign = [[149,22,12]]\n",
        "campaign_poly = loaded_poly.transform(campaign)\n",
        "print(f'''Our next ad campaign will have a total spend of \n",
        " - 149k on TV, \n",
        " - 22k on Radio, and \n",
        " -  12k on Newspaper Ads,\n",
        " how many units could we expect to sell as a result of this?\n",
        " \n",
        " Give campaign {campaign}\n",
        " polynomial features {campaign_poly}\n",
        " \n",
        " Predicted Sales is {final_model.predict(campaign_poly)}''')\n"
      ],
      "execution_count": 33,
      "outputs": [
        {
          "output_type": "stream",
          "text": [
            "Our next ad campaign will have a total spend of \n",
            " - 149k on TV, \n",
            " - 22k on Radio, and \n",
            " -  12k on Newspaper Ads,\n",
            " how many units could we expect to sell as a result of this?\n",
            " \n",
            " Give campaign [[149, 22, 12]]\n",
            " polynomial features [[1.490000e+02 2.200000e+01 1.200000e+01 2.220100e+04 3.278000e+03\n",
            "  1.788000e+03 4.840000e+02 2.640000e+02 1.440000e+02 3.307949e+06\n",
            "  4.884220e+05 2.664120e+05 7.211600e+04 3.933600e+04 2.145600e+04\n",
            "  1.064800e+04 5.808000e+03 3.168000e+03 1.728000e+03]]\n",
            " \n",
            " Predicted Sales is [14.64501014]\n"
          ],
          "name": "stdout"
        }
      ]
    },
    {
      "cell_type": "markdown",
      "metadata": {
        "id": "JBWHMtup62Gz"
      },
      "source": [
        "Other Regression Topics:\n",
        "\n",
        "[Simple Linear Regression](./L01_simple_linear_regression.ipynb)   \n",
        "[Linear Regression](./L02_linear_regression.ipynb)        \n",
        "[Regularization - Ridge-Lasso-ElasticNet](./L04_regularization.ipynb)\n",
        "\n",
        "[Anscombes Quartet](./E01_anscombes_quartet.ipynb)\n",
        "\n",
        "\n"
      ]
    },
    {
      "cell_type": "code",
      "metadata": {
        "id": "SYa7obVBmX26"
      },
      "source": [
        ""
      ],
      "execution_count": null,
      "outputs": []
    }
  ]
}