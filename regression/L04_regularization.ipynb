{
  "nbformat": 4,
  "nbformat_minor": 0,
  "metadata": {
    "colab": {
      "name": "L04_regularization.ipynb",
      "provenance": [],
      "authorship_tag": "ABX9TyO7SUsIngFvoITP3sOLbH7C",
      "include_colab_link": true
    },
    "kernelspec": {
      "name": "python3",
      "display_name": "Python 3"
    },
    "language_info": {
      "name": "python"
    }
  },
  "cells": [
    {
      "cell_type": "markdown",
      "metadata": {
        "id": "view-in-github",
        "colab_type": "text"
      },
      "source": [
        "<a href=\"https://colab.research.google.com/github/Sreeshbk/binance_datascience/blob/main/regression/L04_regularization.ipynb\" target=\"_parent\"><img src=\"https://colab.research.google.com/assets/colab-badge.svg\" alt=\"Open In Colab\"/></a>"
      ]
    },
    {
      "cell_type": "markdown",
      "metadata": {
        "id": "byDDu-MEmRbD"
      },
      "source": [
        "# Regularization\n",
        "Regularization attempts to minimize the RSS (residual sum of squares) and a penalty factor. This penalty factor will penalize models that have coefficients that are too large. Some methods of regularization will actually cause non useful features to have a coefficient of zero, in which case the model does not consider the feature.\n",
        "\n",
        "Let's explore two methods of regularization, Ridge Regression and Lasso. We'll combine these with the polynomial feature set (it wouldn't be as effective to perform regularization of a model on such a small original feature set of the original X)."
      ]
    },
    {
      "cell_type": "code",
      "metadata": {
        "id": "58OBcGMBl2iH"
      },
      "source": [
        "import numpy as np\n",
        "import pandas as pd\n",
        "import matplotlib.pyplot as plt\n",
        "import seaborn as sns"
      ],
      "execution_count": 1,
      "outputs": []
    },
    {
      "cell_type": "code",
      "metadata": {
        "colab": {
          "base_uri": "https://localhost:8080/"
        },
        "id": "X0FoCFhXoLPz",
        "outputId": "2497b0e0-53cb-4649-b991-e3fee098518a"
      },
      "source": [
        "advertising = pd.read_csv(\"./data/Advertising.csv\")\n",
        "print(\"Read the advertising dataset and extracting features and label X and y\")\n",
        "X = advertising.drop('Sales',axis=1)\n",
        "y = advertising['Sales']\n",
        "print(f\" X[0] {X.iloc[0]}  and y[0] {y.iloc[0]}\")"
      ],
      "execution_count": 2,
      "outputs": [
        {
          "output_type": "stream",
          "text": [
            "Read the advertising dataset and extracting features and label X and y\n",
            " X[0] Unnamed: 0      1.0\n",
            "TV            230.1\n",
            "Radio          37.8\n",
            "Newspaper      69.2\n",
            "Name: 0, dtype: float64  and y[0] 22.1\n"
          ],
          "name": "stdout"
        }
      ]
    },
    {
      "cell_type": "code",
      "metadata": {
        "colab": {
          "base_uri": "https://localhost:8080/"
        },
        "id": "a_gLMgtepJ6M",
        "outputId": "b53d6b39-acc4-47b5-b593-ab71a819dfc4"
      },
      "source": [
        "from sklearn.preprocessing import PolynomialFeatures\n",
        "# Based on last notebook degree 3 was found to be a good model\n",
        "polynomial_converter = PolynomialFeatures(degree=3,include_bias=False)\n",
        "poly_features = polynomial_converter.fit_transform(X)\n",
        "print(\"poly_features[0] \",poly_features[0])\n"
      ],
      "execution_count": 3,
      "outputs": [
        {
          "output_type": "stream",
          "text": [
            "poly_features[0]  [1.00000000e+00 2.30100000e+02 3.78000000e+01 6.92000000e+01\n",
            " 1.00000000e+00 2.30100000e+02 3.78000000e+01 6.92000000e+01\n",
            " 5.29460100e+04 8.69778000e+03 1.59229200e+04 1.42884000e+03\n",
            " 2.61576000e+03 4.78864000e+03 1.00000000e+00 2.30100000e+02\n",
            " 3.78000000e+01 6.92000000e+01 5.29460100e+04 8.69778000e+03\n",
            " 1.59229200e+04 1.42884000e+03 2.61576000e+03 4.78864000e+03\n",
            " 1.21828769e+07 2.00135918e+06 3.66386389e+06 3.28776084e+05\n",
            " 6.01886376e+05 1.10186606e+06 5.40101520e+04 9.88757280e+04\n",
            " 1.81010592e+05 3.31373888e+05]\n"
          ],
          "name": "stdout"
        }
      ]
    },
    {
      "cell_type": "code",
      "metadata": {
        "id": "leW8YvOdqnPm"
      },
      "source": [
        "from sklearn.model_selection import train_test_split\n",
        "X_train, X_test, y_train, y_test = train_test_split(poly_features, y, test_size=0.3, random_state=42)\n"
      ],
      "execution_count": 4,
      "outputs": []
    },
    {
      "cell_type": "markdown",
      "metadata": {
        "id": "yp7OziLSrIXg"
      },
      "source": [
        "# Scaling the Data\n",
        "\n",
        "Feature scaling (also known as data normalization) is the method used to standardize the range of features of data. Since, the range of values of data may vary widely, it becomes a necessary step in data preprocessing while using machine learning algorithms.\n",
        "\n",
        "While our particular data set has all the values in the same order of magnitude ($1000s of dollars spent), typically that won't be the case on a dataset, and since the mathematics behind regularized models will sum coefficients together, its important to standardize the features. Review the theory videos for more info, as well as a discussion on why we only fit to the training data, and transform on both sets separately."
      ]
    },
    {
      "cell_type": "code",
      "metadata": {
        "colab": {
          "base_uri": "https://localhost:8080/"
        },
        "id": "EKG1wTsvrHBC",
        "outputId": "fc9c20a7-69b8-4a1e-ed56-ea9217d20a18"
      },
      "source": [
        "from sklearn.preprocessing import StandardScaler\n",
        "scaler = StandardScaler()\n",
        "scaler.fit(X_train)"
      ],
      "execution_count": 5,
      "outputs": [
        {
          "output_type": "execute_result",
          "data": {
            "text/plain": [
              "StandardScaler(copy=True, with_mean=True, with_std=True)"
            ]
          },
          "metadata": {
            "tags": []
          },
          "execution_count": 5
        }
      ]
    },
    {
      "cell_type": "code",
      "metadata": {
        "id": "2F6hgQ_UthUH"
      },
      "source": [
        "X_train = scaler.transform(X_train)\n",
        "X_test_original=X_test\n",
        "X_test = scaler.transform(X_test)"
      ],
      "execution_count": 6,
      "outputs": []
    },
    {
      "cell_type": "code",
      "metadata": {
        "colab": {
          "base_uri": "https://localhost:8080/",
          "height": 401
        },
        "id": "CfJnA6K3t0a2",
        "outputId": "5011bbab-584a-4cc3-93ed-917a017f5104"
      },
      "source": [
        "fig, ax=plt.subplots(1,2)\n",
        "sns.distplot(X_test_original, ax=ax[0], color='y')\n",
        "ax[0].set_title(\"Original Data\")\n",
        "sns.distplot(X_test, ax=ax[1])\n",
        "ax[1].set_title(\"Scaled data\")\n",
        "plt.legend()\n",
        "plt.show()"
      ],
      "execution_count": 7,
      "outputs": [
        {
          "output_type": "stream",
          "text": [
            "/usr/local/lib/python3.7/dist-packages/seaborn/distributions.py:2557: FutureWarning: `distplot` is a deprecated function and will be removed in a future version. Please adapt your code to use either `displot` (a figure-level function with similar flexibility) or `histplot` (an axes-level function for histograms).\n",
            "  warnings.warn(msg, FutureWarning)\n",
            "/usr/local/lib/python3.7/dist-packages/seaborn/distributions.py:2557: FutureWarning: `distplot` is a deprecated function and will be removed in a future version. Please adapt your code to use either `displot` (a figure-level function with similar flexibility) or `histplot` (an axes-level function for histograms).\n",
            "  warnings.warn(msg, FutureWarning)\n",
            "No handles with labels found to put in legend.\n"
          ],
          "name": "stderr"
        },
        {
          "output_type": "display_data",
          "data": {
            "image/png": "[encoded data removed]",
            "text/plain": [
              "<Figure size 432x288 with 2 Axes>"
            ]
          },
          "metadata": {
            "tags": [],
            "needs_background": "light"
          }
        }
      ]
    },
    {
      "cell_type": "markdown",
      "metadata": {
        "id": "V3gJgWONwsqh"
      },
      "source": [
        "## Ridge Regression\n",
        "\n",
        "Ridge regression is a model tuning method that is used to analyse any data that suffers from multicollinearity(occurrence of high intercorrelations among two or more independent variables in a multiple regression model). This method performs L2 regularization. When the issue of multicollinearity occurs, least-squares are unbiased, and variances are large, this results in predicted values to be far away from the actual values.\n",
        "\n",
        "\n"
      ]
    },
    {
      "cell_type": "code",
      "metadata": {
        "colab": {
          "base_uri": "https://localhost:8080/"
        },
        "id": "Qyle3ZTsxZ_l",
        "outputId": "765dee77-e2ac-4af1-ece3-fdfef2a0849e"
      },
      "source": [
        "from sklearn.linear_model import Ridge\n",
        "ridge_model = Ridge(alpha=10)\n",
        "ridge_model.fit(X_train,y_train)"
      ],
      "execution_count": 8,
      "outputs": [
        {
          "output_type": "execute_result",
          "data": {
            "text/plain": [
              "Ridge(alpha=10, copy_X=True, fit_intercept=True, max_iter=None, normalize=False,\n",
              "      random_state=None, solver='auto', tol=0.001)"
            ]
          },
          "metadata": {
            "tags": []
          },
          "execution_count": 8
        }
      ]
    },
    {
      "cell_type": "code",
      "metadata": {
        "id": "0twv_Idjxhm3"
      },
      "source": [
        "test_predictions = ridge_model.predict(X_test)"
      ],
      "execution_count": 11,
      "outputs": []
    },
    {
      "cell_type": "code",
      "metadata": {
        "colab": {
          "base_uri": "https://localhost:8080/"
        },
        "id": "GF-TsuVsxk58",
        "outputId": "341f110b-3ae9-409b-9a2e-3c086b4afe49"
      },
      "source": [
        "ridge_model.coef_"
      ],
      "execution_count": 9,
      "outputs": [
        {
          "output_type": "execute_result",
          "data": {
            "text/plain": [
              "array([-1.50648950e-01,  1.97280133e+00,  6.84683438e-01,  1.94890702e-03,\n",
              "       -1.77273930e-01,  6.31536558e-01,  5.22861621e-02,  9.62175388e-02,\n",
              "        2.34981078e-01,  1.59821047e+00,  3.58642161e-01,  1.95811582e-01,\n",
              "        1.28158326e-01, -5.23622776e-02, -7.23620793e-02,  1.95045361e-01,\n",
              "       -3.04197565e-02, -8.72725168e-02, -5.04420677e-01,  4.29419710e-01,\n",
              "       -2.46915862e-01, -2.20060470e-01, -1.12936988e-02,  1.22988347e-01,\n",
              "       -5.42553549e-01,  4.54058030e-01, -3.94928162e-01,  8.56825371e-01,\n",
              "        1.59309612e-01,  4.68628345e-02, -9.72639754e-02, -4.99669102e-02,\n",
              "       -2.85204349e-02, -6.83203443e-02])"
            ]
          },
          "metadata": {
            "tags": []
          },
          "execution_count": 9
        }
      ]
    },
    {
      "cell_type": "code",
      "metadata": {
        "colab": {
          "base_uri": "https://localhost:8080/"
        },
        "id": "YZ66tfBCxpAV",
        "outputId": "f5fd7e2e-9065-4a5c-a4d1-08ca9b4e361b"
      },
      "source": [
        "from sklearn.metrics import mean_absolute_error,mean_squared_error\n",
        "MAE = mean_absolute_error(y_test,test_predictions)\n",
        "MSE = mean_squared_error(y_test,test_predictions)\n",
        "RMSE = np.sqrt(MSE)\n",
        "print(f\"ridge_model has a MAE {MAE}, MSE {MSE} and RMSE {RMSE}\")"
      ],
      "execution_count": 12,
      "outputs": [
        {
          "output_type": "stream",
          "text": [
            "ridge_model has a MAE 0.6024567366034363, MSE 0.7516388521713991 and RMSE 0.8669710792012609\n"
          ],
          "name": "stdout"
        }
      ]
    },
    {
      "cell_type": "code",
      "metadata": {
        "colab": {
          "base_uri": "https://localhost:8080/"
        },
        "id": "tzK9ECkxyfQx",
        "outputId": "2eabd289-4d1c-4661-cff9-2859bfc0a184"
      },
      "source": [
        "# Training Set Performance\n",
        "train_predictions = ridge_model.predict(X_train)\n",
        "MAE = mean_absolute_error(y_train,train_predictions)\n",
        "MAE\n",
        "print(f\"MAE on trainingset {MAE}\")"
      ],
      "execution_count": 13,
      "outputs": [
        {
          "output_type": "stream",
          "text": [
            "MAE on trainingset 0.5004349540730859\n"
          ],
          "name": "stdout"
        }
      ]
    },
    {
      "cell_type": "markdown",
      "metadata": {
        "id": "eZObBxP2ywP5"
      },
      "source": [
        "Choosing an alpha value with Cross-Validation"
      ]
    },
    {
      "cell_type": "code",
      "metadata": {
        "colab": {
          "base_uri": "https://localhost:8080/"
        },
        "id": "q_DsOeFqyzb0",
        "outputId": "f336f2c6-5f1a-461d-c06c-f22098730c5b"
      },
      "source": [
        "from sklearn.linear_model import RidgeCV\n",
        "# Choosing a scoring: https://scikit-learn.org/stable/modules/model_evaluation.html\n",
        "# Negative RMSE so all metrics follow convention \"Higher is better\"\n",
        "\n",
        "# See all options: sklearn.metrics.SCORERS.keys()\n",
        "ridge_cv_model = RidgeCV(alphas=(0.1, 1.0, 10.0),scoring='neg_mean_absolute_error')\n",
        "# The more alpha options you pass, the longer this will take.\n",
        "# Fortunately our data set is still pretty small\n",
        "ridge_cv_model.fit(X_train,y_train)"
      ],
      "execution_count": 14,
      "outputs": [
        {
          "output_type": "execute_result",
          "data": {
            "text/plain": [
              "RidgeCV(alphas=array([ 0.1,  1. , 10. ]), cv=None, fit_intercept=True,\n",
              "        gcv_mode=None, normalize=False, scoring='neg_mean_absolute_error',\n",
              "        store_cv_values=False)"
            ]
          },
          "metadata": {
            "tags": []
          },
          "execution_count": 14
        }
      ]
    },
    {
      "cell_type": "code",
      "metadata": {
        "colab": {
          "base_uri": "https://localhost:8080/"
        },
        "id": "gghqjDD0y99e",
        "outputId": "5a8539d9-fe3e-4b0a-9101-394cd6c3c45e"
      },
      "source": [
        "ridge_cv_model.alpha_"
      ],
      "execution_count": 15,
      "outputs": [
        {
          "output_type": "execute_result",
          "data": {
            "text/plain": [
              "0.1"
            ]
          },
          "metadata": {
            "tags": []
          },
          "execution_count": 15
        }
      ]
    },
    {
      "cell_type": "code",
      "metadata": {
        "id": "_WfUTLTnzEkF"
      },
      "source": [
        "test_predictions = ridge_cv_model.predict(X_test)"
      ],
      "execution_count": 16,
      "outputs": []
    },
    {
      "cell_type": "code",
      "metadata": {
        "colab": {
          "base_uri": "https://localhost:8080/"
        },
        "id": "NC4nQ28ezILe",
        "outputId": "30ea5106-347b-48a0-cbee-b0f6e35b9dca"
      },
      "source": [
        "MAE = mean_absolute_error(y_test,test_predictions)\n",
        "MSE = mean_squared_error(y_test,test_predictions)\n",
        "RMSE = np.sqrt(MSE)\n",
        "print(f\"ridge_model has a MAE {MAE}, MSE {MSE} and RMSE {RMSE}\")"
      ],
      "execution_count": 17,
      "outputs": [
        {
          "output_type": "stream",
          "text": [
            "ridge_model has a MAE 0.4865889206350245, MSE 0.3894620356102126 and RMSE 0.6240689349825167\n"
          ],
          "name": "stdout"
        }
      ]
    },
    {
      "cell_type": "code",
      "metadata": {
        "colab": {
          "base_uri": "https://localhost:8080/"
        },
        "id": "DLB0-LZezVy3",
        "outputId": "9e658dc7-af44-42cd-f089-185ccefeb390"
      },
      "source": [
        "# Training Set Performance\n",
        "# Training Set Performance\n",
        "train_predictions = ridge_cv_model.predict(X_train)\n",
        "MAE = mean_absolute_error(y_train,train_predictions)\n",
        "MAE,ridge_cv_model.coef_"
      ],
      "execution_count": 18,
      "outputs": [
        {
          "output_type": "execute_result",
          "data": {
            "text/plain": [
              "(0.31846548108903655,\n",
              " array([ 0.28802659,  5.28794592,  0.78143702,  0.49918755, -1.53573854,\n",
              "         1.27461569, -0.88185399,  0.40776397, -5.59006231,  3.45727054,\n",
              "        -1.06419005, -0.08137774, -0.09194615, -0.4595921 ,  0.81683338,\n",
              "        -0.40129485,  1.13807079, -0.02649412, -0.4633815 , -0.11858033,\n",
              "        -0.41902866, -0.32361982,  0.06078088,  0.04229031,  2.02812901,\n",
              "        -0.44990994,  0.51578736,  0.71371534, -0.29209798,  0.53740378,\n",
              "        -0.22815533,  0.54625496, -0.2460892 ,  0.13008384]))"
            ]
          },
          "metadata": {
            "tags": []
          },
          "execution_count": 18
        }
      ]
    },
    {
      "cell_type": "markdown",
      "metadata": {
        "id": "KgaovvhDzU_D"
      },
      "source": [
        "## Lasso Regression"
      ]
    },
    {
      "cell_type": "code",
      "metadata": {
        "colab": {
          "base_uri": "https://localhost:8080/"
        },
        "id": "pyheAQHr0Hd_",
        "outputId": "3e9af26a-25d1-4db8-8483-d5fbc75c0c7a"
      },
      "source": [
        "from sklearn.linear_model import LassoCV\n",
        "# https://scikit-learn.org/stable/modules/generated/sklearn.linear_model.LassoCV.html\n",
        "lasso_cv_model = LassoCV(eps=0.1,n_alphas=100,cv=5)\n",
        "lasso_cv_model.fit(X_train,y_train)"
      ],
      "execution_count": 19,
      "outputs": [
        {
          "output_type": "execute_result",
          "data": {
            "text/plain": [
              "LassoCV(alphas=None, copy_X=True, cv=5, eps=0.1, fit_intercept=True,\n",
              "        max_iter=1000, n_alphas=100, n_jobs=None, normalize=False,\n",
              "        positive=False, precompute='auto', random_state=None,\n",
              "        selection='cyclic', tol=0.0001, verbose=False)"
            ]
          },
          "metadata": {
            "tags": []
          },
          "execution_count": 19
        }
      ]
    },
    {
      "cell_type": "code",
      "metadata": {
        "colab": {
          "base_uri": "https://localhost:8080/"
        },
        "id": "ekrNUu010Qex",
        "outputId": "dd2de33c-3b0e-4bd5-b1c4-a381c49a432a"
      },
      "source": [
        "lasso_cv_model.alpha_"
      ],
      "execution_count": 20,
      "outputs": [
        {
          "output_type": "execute_result",
          "data": {
            "text/plain": [
              "0.4924531806474871"
            ]
          },
          "metadata": {
            "tags": []
          },
          "execution_count": 20
        }
      ]
    },
    {
      "cell_type": "code",
      "metadata": {
        "colab": {
          "base_uri": "https://localhost:8080/"
        },
        "id": "gf2zS7N60Txb",
        "outputId": "5dc5cf20-f97b-4dc2-ec24-57e7e62fa4e7"
      },
      "source": [
        "test_predictions = lasso_cv_model.predict(X_test)\n",
        "MAE = mean_absolute_error(y_test,test_predictions)\n",
        "MSE = mean_squared_error(y_test,test_predictions)\n",
        "RMSE = np.sqrt(MSE)\n",
        "print(f\"lasso_cv_model has a MAE {MAE}, MSE {MSE} and RMSE {RMSE}\")"
      ],
      "execution_count": 21,
      "outputs": [
        {
          "output_type": "stream",
          "text": [
            "lasso_cv_model has a MAE 0.6811456342837985, MSE 1.0710443722690077 and RMSE 1.0349127365478732\n"
          ],
          "name": "stdout"
        }
      ]
    },
    {
      "cell_type": "code",
      "metadata": {
        "colab": {
          "base_uri": "https://localhost:8080/"
        },
        "id": "MBbiyyQG0g7G",
        "outputId": "cb9b09d7-8c88-409a-f888-9c60358128d5"
      },
      "source": [
        "# Training Set Performance\n",
        "# Training Set Performance\n",
        "train_predictions = lasso_cv_model.predict(X_train)\n",
        "MAE = mean_absolute_error(y_train,train_predictions)\n",
        "MAE"
      ],
      "execution_count": 22,
      "outputs": [
        {
          "output_type": "execute_result",
          "data": {
            "text/plain": [
              "0.6860946674187014"
            ]
          },
          "metadata": {
            "tags": []
          },
          "execution_count": 22
        }
      ]
    },
    {
      "cell_type": "code",
      "metadata": {
        "colab": {
          "base_uri": "https://localhost:8080/"
        },
        "id": "CSOFvx6s0kwz",
        "outputId": "18463c35-3cd3-42f3-921d-fd3ef47a599c"
      },
      "source": [
        "lasso_cv_model.coef_"
      ],
      "execution_count": 23,
      "outputs": [
        {
          "output_type": "execute_result",
          "data": {
            "text/plain": [
              "array([-0.        ,  0.97675148,  0.        ,  0.        , -0.        ,\n",
              "        0.        ,  0.        ,  0.        ,  0.        ,  3.8148913 ,\n",
              "        0.        ,  0.        ,  0.        ,  0.        , -0.        ,\n",
              "        0.        ,  0.        ,  0.        ,  0.        ,  0.        ,\n",
              "        0.        ,  0.        ,  0.        ,  0.        ,  0.        ,\n",
              "        0.        ,  0.        ,  0.        ,  0.        ,  0.        ,\n",
              "        0.        ,  0.        ,  0.        ,  0.        ])"
            ]
          },
          "metadata": {
            "tags": []
          },
          "execution_count": 23
        }
      ]
    },
    {
      "cell_type": "code",
      "metadata": {
        "id": "SFeaFmAL0kZI"
      },
      "source": [
        ""
      ],
      "execution_count": null,
      "outputs": []
    },
    {
      "cell_type": "markdown",
      "metadata": {
        "id": "Da7QSWRHzUw0"
      },
      "source": [
        "#ElasticNet\n",
        "\n",
        "Elastic Net combines the penalties of ridge regression and lasso in an attempt to get the best of both worlds!"
      ]
    },
    {
      "cell_type": "code",
      "metadata": {
        "colab": {
          "base_uri": "https://localhost:8080/"
        },
        "id": "dvvQT7qF03em",
        "outputId": "6c62139c-a592-4ff2-bf74-4fbdbd93305e"
      },
      "source": [
        "from sklearn.linear_model import ElasticNetCV\n",
        "elastic_model = ElasticNetCV(l1_ratio=[.1, .5, .7,.9, .95, .99, 1],tol=0.01)\n",
        "elastic_model.fit(X_train,y_train)\n",
        "elastic_model.l1_ratio_"
      ],
      "execution_count": 24,
      "outputs": [
        {
          "output_type": "execute_result",
          "data": {
            "text/plain": [
              "0.95"
            ]
          },
          "metadata": {
            "tags": []
          },
          "execution_count": 24
        }
      ]
    },
    {
      "cell_type": "code",
      "metadata": {
        "colab": {
          "base_uri": "https://localhost:8080/"
        },
        "id": "-9aMDeio1A5P",
        "outputId": "67a3f6de-0298-470e-ff69-8d774b4cd202"
      },
      "source": [
        "test_predictions = elastic_model.predict(X_test)\n",
        "MAE = mean_absolute_error(y_test,test_predictions)\n",
        "MSE = mean_squared_error(y_test,test_predictions)\n",
        "RMSE = np.sqrt(MSE)\n",
        "print(f\"elastic_model has a MAE {MAE}, MSE {MSE} and RMSE {RMSE}\")"
      ],
      "execution_count": 25,
      "outputs": [
        {
          "output_type": "stream",
          "text": [
            "elastic_model has a MAE 0.6221087545664105, MSE 0.5776833516321037 and RMSE 0.7600548346218868\n"
          ],
          "name": "stdout"
        }
      ]
    },
    {
      "cell_type": "code",
      "metadata": {
        "colab": {
          "base_uri": "https://localhost:8080/"
        },
        "id": "mMG67aB01Nlx",
        "outputId": "d577fdcc-7b14-4e0f-917d-f30544e9b536"
      },
      "source": [
        "# Training Set Performance\n",
        "# Training Set Performance\n",
        "train_predictions = elastic_model.predict(X_train)\n",
        "MAE = mean_absolute_error(y_train,train_predictions)\n",
        "MAE,elastic_model.coef_"
      ],
      "execution_count": 28,
      "outputs": [
        {
          "output_type": "execute_result",
          "data": {
            "text/plain": [
              "(0.40867524786255205,\n",
              " array([-4.48633962e-02,  3.80872862e+00,  1.16222890e+00,  1.52334055e-01,\n",
              "         0.00000000e+00,  2.07798996e-01,  0.00000000e+00,  5.76086982e-02,\n",
              "        -9.23835141e-01,  1.79323730e+00, -2.41688493e-01, -3.51315605e-02,\n",
              "         5.50592965e-03,  1.54562133e-02,  7.44767506e-02,  4.53101269e-02,\n",
              "        -3.37407037e-01, -2.63875994e-03, -3.74470210e-01,  4.72122287e-01,\n",
              "        -8.81049715e-02, -5.35102956e-02,  0.00000000e+00,  9.55931465e-02,\n",
              "        -9.31318745e-01,  3.84368862e-01, -0.00000000e+00,  8.28619410e-01,\n",
              "         0.00000000e+00,  0.00000000e+00, -2.74084571e-01,  1.69925644e-02,\n",
              "         7.42025730e-03,  0.00000000e+00]))"
            ]
          },
          "metadata": {
            "tags": []
          },
          "execution_count": 28
        }
      ]
    },
    {
      "cell_type": "markdown",
      "metadata": {
        "id": "Dney1ZPol627"
      },
      "source": [
        "Other Regression Topics:\n",
        "\n",
        "[Simple Linear Regression](./L01_simple_linear_regression.ipynb)   \n",
        "[Linear Regression](./L01_linear_regression.ipynb)   \n",
        "[Polynomial Regression](./L03_polynomial_regression.ipynb)        \n",
        "[Regularization - Ridge-Lasso-ElasticNet](./L04_regularization.ipynb)\n",
        "\n",
        "[Anscombes Quartet](./E01_anscombes_quartet.ipynb)"
      ]
    }
  ]
}